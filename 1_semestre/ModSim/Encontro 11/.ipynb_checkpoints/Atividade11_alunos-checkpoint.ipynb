{
 "cells": [
  {
   "cell_type": "markdown",
   "metadata": {},
   "source": [
    "# **ATIVIDADE DE IMPLEMENTAÇÃO 11**\n",
    "\n",
    "**Simbiose das Anêmonas e peixes-palhaço**"
   ]
  },
  {
   "cell_type": "markdown",
   "metadata": {},
   "source": [
    "**Primeira iteração:**\n",
    "\n",
    "Sistema em que peixes-palhaço e anêmonas não tem qualquer influência entre si.\n",
    "\n",
    "<img src=\"Modelo1.png\"/, width=400, height=400 style=\"float: center; margin: 0px 0px 10px 10px\"> \n",
    "\n",
    "Para esse caso, escrevemos o seguinte conjunto de equações a diferenças:\n",
    "$P(t+1)=P(t)+(p_n-p_m )P(t)$\n",
    "\n",
    "$A(t+1)=A(t)+(a_n-a_m )A(t)$\n",
    "\n",
    "Podemos reescrever essas equações em termos de $∆P$ e $∆A$, que representam as variações nas populações $P$ e $A$, respectivamente.\n",
    "\n",
    "$P(t+1)=P(t)+∆P$\n",
    "\n",
    "$∆P(P)=(p_n-p_m )P$  \n",
    "\n",
    "$A(t+1)=A(t)+∆A$\n",
    "\n",
    "$∆A(A)=(a_n-a_m )A$\n",
    "\n",
    "Na célula abaixo, implemente a função CalculaDeltaP\n"
   ]
  },
  {
   "cell_type": "code",
   "execution_count": 135,
   "metadata": {
    "collapsed": false
   },
   "outputs": [],
   "source": [
    "'''\n",
    "A função CalculaDeltaP calcula a variação na população de peixes-palhaço.\n",
    "Entradas\n",
    "    P: população atual de peixes-palhaço\n",
    "    pn: taxa de natalidade de peixes-palhaço (unidade: peixes / peixe / mês)\n",
    "    pm: taxa de mortalidade de peixes-palhaço (unidade: peixes / peixe / mês)\n",
    "Saídas\n",
    "    deltaP: variação da população de peixes-palhaço para o próximo mês\n",
    "'''\n",
    "\n",
    "def CalculaDeltaP(P,pn,pm):\n",
    "    # coloque seu código aqui\n",
    "        return (pn - pm)*P\n",
    "    "
   ]
  },
  {
   "cell_type": "code",
   "execution_count": 136,
   "metadata": {
    "collapsed": true
   },
   "outputs": [],
   "source": [
    "'''\n",
    "A função CalculaDeltaA calcula a variação na população de Anêmonas.\n",
    "Entradas\n",
    "    A: população atual de Anêmonas\n",
    "    an: taxa de natalidade de anêmonas (unidade: anêmonas / anêmonas / mês)\n",
    "    am: taxa de mortalidade de anêmonas (unidade: anêmonas / anêmonas / mês)\n",
    "Saídas\n",
    "    deltaA: variação da população de anêmonas para o próximo mês\n",
    "'''\n",
    "\n",
    "def CalculaDeltaA(A,an,am):\n",
    "    # coloque seu código aqui\n",
    "    return (an - am)*A\n",
    "    "
   ]
  },
  {
   "cell_type": "code",
   "execution_count": 137,
   "metadata": {
    "collapsed": false
   },
   "outputs": [
    {
     "name": "stdout",
     "output_type": "stream",
     "text": [
      "Saída esperada: 0.5000\n",
      "Saída calculada: 0.4999999999999999\n"
     ]
    }
   ],
   "source": [
    "'''\n",
    "Teste parcial 1.1\n",
    "Código para testar a função CalculaDeltaP a partir de uma única chamada \n",
    "Saída esperada: 0.5000\n",
    "'''\n",
    "Resposta=CalculaDeltaP(5,0.3,0.2)\n",
    "print('Saída esperada: 0.5000')\n",
    "print('Saída calculada: ' + str(Resposta))\n",
    "\n"
   ]
  },
  {
   "cell_type": "code",
   "execution_count": 138,
   "metadata": {
    "collapsed": false
   },
   "outputs": [
    {
     "name": "stdout",
     "output_type": "stream",
     "text": [
      "Saída esperada: 0.5000\n",
      "Saída calculada: 0.4999999999999999\n"
     ]
    }
   ],
   "source": [
    "'''\n",
    "Código para testar a função CalculaDeltaA a partir de uma única chamada \n",
    "Saída esperada: 0.5000\n",
    "'''\n",
    "Resposta=CalculaDeltaA(5,0.3,0.2)\n",
    "print('Saída esperada: 0.5000')\n",
    "print('Saída calculada: ' + str(Resposta))"
   ]
  },
  {
   "cell_type": "code",
   "execution_count": 139,
   "metadata": {
    "collapsed": false
   },
   "outputs": [
    {
     "data": {
      "image/png": "[encoded data removed]",
      "text/plain": [
       "<matplotlib.figure.Figure at 0x5f0d3c7d68>"
      ]
     },
     "metadata": {},
     "output_type": "display_data"
    }
   ],
   "source": [
    "'''\n",
    "Teste parcial 1.2\n",
    "Código para construir um gráfico do valor de ∆P calculado pela função CalculaDeltaP em função de diferentes valores de P.\n",
    "Entradas:\n",
    "    pn = 0.2\n",
    "    pm = 0.3\n",
    "    P variando conforme indicado: (0, 20, 40, 60, 80, 100) \n",
    "Saída esperada: um gráfico de uma reta com coeficiente angular 0.1, interceptando o eixo y em y = 0.\n",
    "'''\n",
    "import matplotlib.pyplot as plt\n",
    "%matplotlib inline\n",
    "\n",
    "pn = 0.2\n",
    "pm = 0.3\n",
    "P = [0] * 6\n",
    "DeltaP = [0] * 6\n",
    "for i in range (0,6):\n",
    "    P[i] = 20*i\n",
    "    DeltaP[i] = CalculaDeltaP(P[i],pn,pm)\n",
    "plt.plot(P, DeltaP)\n",
    "plt.axis([0, P[5], -10, 0])\n",
    "plt.ylabel('Delta P [peixes-palhaço]')\n",
    "plt.xlabel('P [peixes-palhaço]')\n",
    "plt.title(r'Delta P em função de P')\n",
    "plt.show()\n"
   ]
  },
  {
   "cell_type": "markdown",
   "metadata": {},
   "source": [
    "**JUNTANDO AS PEÇAS (I)**\n",
    "\n",
    "Crie um código abaixo que gere os gráficos das populações de peixes-palhaço e anêmonas em função do tempo usando as funções CalculaDeltaP e CalculaDeltaA"
   ]
  },
  {
   "cell_type": "code",
   "execution_count": 140,
   "metadata": {
    "collapsed": false
   },
   "outputs": [
    {
     "data": {
      "image/png": "[encoded data removed]",
      "text/plain": [
       "<matplotlib.figure.Figure at 0x5f0d1f7390>"
      ]
     },
     "metadata": {},
     "output_type": "display_data"
    },
    {
     "data": {
      "image/png": "[encoded data removed]",
      "text/plain": [
       "<matplotlib.figure.Figure at 0x5f0d2a5eb8>"
      ]
     },
     "metadata": {},
     "output_type": "display_data"
    }
   ],
   "source": [
    "import matplotlib.pyplot as plt\n",
    "%matplotlib inline\n",
    "\n",
    "P = [0]*20\n",
    "A = [0]*20\n",
    "T =20\n",
    "\n",
    "for i in range (0, T):\n",
    "    P[0] = 1000\n",
    "    A[0] = 100\n",
    "    DeltaP = CalculaDeltaP(P[i-1], 0.2, 0.3)\n",
    "    P[i] = P[i - 1] + DeltaP\n",
    "    \n",
    "    DeltaA = CalculaDeltaA(A[i -1], 0.4, 0.3)\n",
    "    A[i] = A[i -1] + DeltaA\n",
    "\n",
    "tempo = range(0, T)\n",
    "plt.plot(tempo, P)\n",
    "plt.axis([0, T, min(P), max(P)])\n",
    "plt.ylabel('P [peixes-palhaço]')\n",
    "plt.xlabel('tempo [meses]')\n",
    "plt.title(r'População de peixes-palhaço')\n",
    "plt.show()\n",
    "\n",
    "tempo = range(0, T)\n",
    "plt.plot(tempo, A)\n",
    "plt.axis([0, T, min(A), max(A)])\n",
    "plt.ylabel('A [Anêmonas]')\n",
    "plt.xlabel('tempo [meses]')\n",
    "plt.title(r'População de anêmonas')\n",
    "plt.show()\n",
    "\n",
    "\n",
    "\n",
    "    "
   ]
  },
  {
   "cell_type": "code",
   "execution_count": null,
   "metadata": {
    "collapsed": true
   },
   "outputs": [],
   "source": []
  },
  {
   "cell_type": "markdown",
   "metadata": {},
   "source": [
    "**Segunda iteração:**\n",
    "\n",
    "Sistema em que peixes-palhaço e anêmonas com influência entre si.\n",
    "\n",
    "<img src=\"Modelo2.png\"/, width=400, height=400 style=\"float: center; margin: 0px 0px 10px 10px\"> \n",
    "\n",
    "As equações a diferenças desse modelo são:\n",
    "\n",
    "$P(t+1)=P(t)+∆P(P(t),A(t))$\n",
    "\n",
    "$∆P(P,A)=(p_n+p_{n,a}A)P-p_mP$\n",
    "\n",
    "$A(t+1)=A(t)+∆A(A(t))$\n",
    "\n",
    "$∆A(A)=(a_n-a_m )A$\n"
   ]
  },
  {
   "cell_type": "code",
   "execution_count": 141,
   "metadata": {
    "collapsed": false
   },
   "outputs": [],
   "source": [
    "'''\n",
    "A função CalculaDeltaP_Simb calcula a variação na população de peixes-palhaço no modelo 2.\n",
    "Entradas\n",
    "    P: população atual de peixes-palhaço\n",
    "    A: população atual de anêmonas\n",
    "    pn: taxa de natalidade de peixes-palhaço (unidade: peixes / peixe / mês)\n",
    "    pm: taxa de mortalidade de peixes-palhaço (unidade: peixes / peixe / mês)\n",
    "    pna: taxa de facilitação da reprodução dos peixes pela presença das anêmonas (unidade: peixes / peixe.anemona.mês)\n",
    "Saídas\n",
    "    deltaP: variação da população de peixes-palhaço para o próximo mês\n",
    "'''\n",
    "\n",
    "def CalculaDeltaP_Simb(P,A, pn,pm, pan):\n",
    "    #escreva seu código aqui\n",
    "    DeltaP = (pn + (0.00025*A))*P - pm*P\n",
    "    return DeltaP\n",
    "    \n",
    "    "
   ]
  },
  {
   "cell_type": "code",
   "execution_count": 142,
   "metadata": {
    "collapsed": false
   },
   "outputs": [
    {
     "name": "stdout",
     "output_type": "stream",
     "text": [
      "Saída esperada: 0.5000\n",
      "Saída calculada: 0.5\n",
      "Saída esperada: 1.1250\n",
      "Saída calculada: 1.125\n",
      "Saída esperada: 3.0000\n",
      "Saída calculada: 3.0\n"
     ]
    }
   ],
   "source": [
    "'''\n",
    "Teste parcial 2.1\n",
    "Este código testa a função CalculaDeltaP_Simb para diferentes níveis da população de anêmonas. \n",
    "Saída esperada:\n",
    "    Resposta 1 = 0.5000\n",
    "    Resposta 2 = 1.1250\n",
    "    Resposta 3 = 3.0000\n",
    "'''\n",
    "\n",
    "Resposta1 = CalculaDeltaP_Simb(5, 0, 0.3, 0.2, 0.00025)\n",
    "Resposta2 = CalculaDeltaP_Simb(5, 500, 0.3, 0.2, 0.00025)\n",
    "Resposta3 = CalculaDeltaP_Simb(5, 2000, 0.3, 0.2, 0.00025)\n",
    "print('Saída esperada: 0.5000')\n",
    "print('Saída calculada: ' + str(Resposta1))\n",
    "print('Saída esperada: 1.1250')\n",
    "print('Saída calculada: ' + str(Resposta2))\n",
    "print('Saída esperada: 3.0000')\n",
    "print('Saída calculada: ' + str(Resposta3))\n"
   ]
  },
  {
   "cell_type": "code",
   "execution_count": 143,
   "metadata": {
    "collapsed": false,
    "scrolled": false
   },
   "outputs": [
    {
     "data": {
      "image/png": "[encoded data removed]",
      "text/plain": [
       "<matplotlib.figure.Figure at 0x5f0d23f208>"
      ]
     },
     "metadata": {},
     "output_type": "display_data"
    }
   ],
   "source": [
    "'''\n",
    "Teste parcial 2.2\n",
    "Este código é para construir um gráfico de DeltaP por P usando a nova função CalculaDeltaP_Simb. \n",
    "Para isso, serão usados diferentes dados de populações de anêmonas. \n",
    "Saída esperada: relações lineares diferentes entre DeltaP e P, dependendo da população de anêmonas\n",
    "'''\n",
    "import matplotlib.pyplot as plt\n",
    "%matplotlib inline\n",
    "\n",
    "pn = 0.5\n",
    "pm = 0.6\n",
    "P0 = [0] * 6\n",
    "DeltaP0 = [0] * 6\n",
    "for i in range (0,6):\n",
    "    P0[i] = 20*i\n",
    "    DeltaP0[i] = CalculaDeltaP_Simb(P0[i], 0, 0.5, 0.6, 0.00025)\n",
    "plt.plot(P0, DeltaP0)\n",
    "plt.axis([0,100,-10,0]) \n",
    "plt.ylabel('Delta P [peixes-palhaço]')\n",
    "plt.xlabel('P [peixes-palhaço]')\n",
    "plt.title(r'Delta P em função de P')\n",
    "plt.show()\n",
    "\n",
    "\n",
    "\n"
   ]
  },
  {
   "cell_type": "markdown",
   "metadata": {},
   "source": [
    "**JUNTANDO AS PEÇAS (II)**\n",
    "\n",
    "Adapte o código de forma que ele possa gerar os gráficos das séries temporais das duas populações para a nova versão do modelo, com simbiose."
   ]
  },
  {
   "cell_type": "code",
   "execution_count": 150,
   "metadata": {
    "collapsed": false,
    "scrolled": false
   },
   "outputs": [
    {
     "data": {
      "image/png": "[encoded data removed]",
      "text/plain": [
       "<matplotlib.figure.Figure at 0x5f0d1df240>"
      ]
     },
     "metadata": {},
     "output_type": "display_data"
    },
    {
     "data": {
      "image/png": "[encoded data removed]",
      "text/plain": [
       "<matplotlib.figure.Figure at 0x5f0d0eec18>"
      ]
     },
     "metadata": {},
     "output_type": "display_data"
    }
   ],
   "source": [
    "import matplotlib.pyplot as plt\n",
    "%matplotlib inline\n",
    "\n",
    "T = 50\n",
    "P = [0]*50\n",
    "A = [0]*50\n",
    "A[0] = 125\n",
    "P[0] = 20\n",
    "\n",
    "for i in range(1,T):\n",
    "    A[i] = A[i -1] + CalculaDeltaA(A[i -1], 0.82,0.8)\n",
    "    P[i] = P[i -1] + CalculaDeltaP_Simb(P[i - 1], A[ i -1], 0.5, 0.6, 0.00025)\n",
    "   \n",
    "\n",
    "\n",
    "tempo = list(range(50)) \n",
    "plt.plot(tempo, P)\n",
    "plt.axis([0 , max(tempo) , min(P)  , max(P)])\n",
    "plt.ylabel('P')\n",
    "plt.xlabel('Tempo')  \n",
    "plt.title(r'População de Peixes')\n",
    "plt.show()    \n",
    " \n",
    "plt.plot(tempo, A)\n",
    "plt.axis([0 , max(tempo) , min(A)  , max(A)])\n",
    "plt.ylabel('A')\n",
    "plt.xlabel('Tempo')  \n",
    "plt.title(r'População de Anêmonas')\n",
    "plt.show()    \n"
   ]
  },
  {
   "cell_type": "markdown",
   "metadata": {},
   "source": [
    "**Terceira iteração:**\n",
    "\n",
    "Para a última versão de nosso modelo, vamos acrescentar o efeito que os peixes-palhaço têm sobre a população de anêmonas. Deixaremos para você pensar, como exercício, na construção do diagrama de estoques e fluxos para esta nova situação (é bastante similar ao passo anterior, em que acrescentamos o efeito das anêmonas na reprodução dos peixes-palhaço). As equações a diferenças para o nosso novo modelo são as seguintes:\n",
    "\n",
    "$P(t+1)=P(t)+∆P(P(t),A(t))$\n",
    "\n",
    "$∆P(P,A)=(p_n+p_{n,a}A)P-p_mP$\n",
    "\n",
    "$A(t+1)=A(t)+∆A(A(t),P(t))$\n",
    "\n",
    "$∆A(A,P)=(a_n+a_{n,p}P)A-a_mA$\n"
   ]
  },
  {
   "cell_type": "code",
   "execution_count": 152,
   "metadata": {
    "collapsed": false,
    "scrolled": false
   },
   "outputs": [
    {
     "data": {
      "image/png": "[encoded data removed]",
      "text/plain": [
       "<matplotlib.figure.Figure at 0x5f0d3ee128>"
      ]
     },
     "metadata": {},
     "output_type": "display_data"
    },
    {
     "data": {
      "image/png": "[encoded data removed]",
      "text/plain": [
       "<matplotlib.figure.Figure at 0x5f0d38f780>"
      ]
     },
     "metadata": {},
     "output_type": "display_data"
    }
   ],
   "source": [
    "import matplotlib.pyplot as plt\n",
    "%matplotlib inline\n",
    "\n",
    "def CalculaDeltaA_Simb(A,P, an,am, pna):   \n",
    "    DeltaA = (an + (0.0004*P))*A - am*A\n",
    "    return DeltaA\n",
    "\n",
    "\n",
    "T = 50\n",
    "P = [0]*50\n",
    "A = [0]*50\n",
    "A[0] = 125\n",
    "P[0] = 20\n",
    "\n",
    "for i in range(1,T):\n",
    "    A[i] = A[i -1] + CalculaDeltaA_Simb(A[i - 1], P[i - 1], 0.82,0.8, 0.004)\n",
    "    P[i] = P[i -1] + CalculaDeltaP_Simb(P[i - 1], A[i - 1], 0.5, 0.6, 0.00025)\n",
    "\n",
    "\n",
    "   \n",
    "tempo = list(range(50)) \n",
    "plt.plot(tempo, P)\n",
    "plt.axis([0 , max(tempo) , min(P)  , max(P)])\n",
    "plt.ylabel('P')\n",
    "plt.xlabel('Tempo')  \n",
    "plt.title(r'População de Peixes')\n",
    "plt.show()    \n",
    " \n",
    "plt.plot(tempo, A)\n",
    "plt.axis([0 , max(tempo) , min(A)  , max(A)])\n",
    "plt.ylabel('A')\n",
    "plt.xlabel('Tempo')  \n",
    "plt.title(r'População de Anêmonas')\n",
    "plt.show()\n",
    "    \n",
    "    \n",
    "    \n",
    "   \n",
    "   "
   ]
  },
  {
   "cell_type": "code",
   "execution_count": null,
   "metadata": {
    "collapsed": true
   },
   "outputs": [],
   "source": []
  },
  {
   "cell_type": "code",
   "execution_count": null,
   "metadata": {
    "collapsed": false
   },
   "outputs": [],
   "source": []
  },
  {
   "cell_type": "code",
   "execution_count": null,
   "metadata": {
    "collapsed": true
   },
   "outputs": [],
   "source": []
  },
  {
   "cell_type": "markdown",
   "metadata": {},
   "source": [
    "INDO UM POUCO ALÉM – CRIAÇÃO DE GRÁFICOS QUE RESUMEM DIFERENTES SÉRIES TEMPORAIS"
   ]
  },
  {
   "cell_type": "code",
   "execution_count": null,
   "metadata": {
    "collapsed": false
   },
   "outputs": [],
   "source": [
    "'''\n",
    "Esta função calcula as séries temporais das populações de peixes-palhaço e anêmonas.\n",
    "Entradas\n",
    "    T: o número de instantes de tempo para o qual você vai rodar a simulação\n",
    "    Po: a população inicial de peixes-palhaço\n",
    "    Ao: a população inicial de anêmonas\n",
    "    pn: taxa de natalidade de peixes-palhaço (unidade: peixes / peixe / mês)\n",
    "    pm: taxa de mortalidade de peixes-palhaço (unidade: peixes / peixe / mês)\n",
    "    pna: taxa de facilitação da reprodução de peixes-palhaço pela presença de anêmonas (unidade: \n",
    "         peixes / peixe / anêmona.mês) \n",
    "    an: taxa de natalidade de anêmonas (unidade: anêmonas / anêmona / mês)\n",
    "    am: taxa de mortalidade de peixes-palhaço (unidade: peixes / peixe / mês)\n",
    "    anp: taxa de facilitação da reprodução de anêmonas pela presença de peixes-palhaço (unidade: \n",
    "         anêmonas / anêmona / peixe.mês)\n",
    "Saídas\n",
    "    P: a população de peixes-palhaço a cada mês\n",
    "    A: a população de anêmonas a cada mês\n",
    "'''\n",
    "def CalculaSeriesTemporais(T, Po, Ao, pn, pm, pan, an, am, anp):\n",
    "    # escreva seu código aqui\n"
   ]
  },
  {
   "cell_type": "code",
   "execution_count": null,
   "metadata": {
    "collapsed": false
   },
   "outputs": [],
   "source": [
    "# faça o código para chamada da função CalculaSeriesTemporais aqui\n",
    "    \n"
   ]
  }
 ],
 "metadata": {
  "kernelspec": {
   "display_name": "Python 3",
   "language": "python",
   "name": "python3"
  },
  "language_info": {
   "codemirror_mode": {
    "name": "ipython",
    "version": 3
   },
   "file_extension": ".py",
   "mimetype": "text/x-python",
   "name": "python",
   "nbconvert_exporter": "python",
   "pygments_lexer": "ipython3",
   "version": "3.5.1"
  }
 },
 "nbformat": 4,
 "nbformat_minor": 0
}
