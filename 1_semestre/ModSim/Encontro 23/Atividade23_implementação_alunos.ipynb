{
 "cells": [
  {
   "cell_type": "markdown",
   "metadata": {},
   "source": [
    "# **ATIVIDADE DE IMPLEMENTAÇÃO – MODELOS CONTÍNUOS**"
   ]
  },
  {
   "cell_type": "markdown",
   "metadata": {},
   "source": [
    "\n",
    "**(1) INTRODUÇÃO**\n",
    "\n",
    "Para a realização desta atividade, consideraremos o modelo farmacocinético da concentração de álcool no corpo humano. A principal referência utilizada para esta atividade é (PIETERS, WEDEL e SCHAAFSMA, 1990). No trabalho, estuda-se a criação de um modelo para prever a concentração de álcool no sangue de pessoas que consomem uma quantidade inicial de álcool em função do tempo. Note-se que o consumo de álcool ocorre apenas 1 vez no início do processo.\n",
    "\n",
    "**(1.1) OBTENÇÃO DE DADOS EXPERIMENTAIS**\n",
    "\n",
    "O primeiro passo para a implementação de nosso modelo será a obtenção de dados experimentais a serem utilizados durante o processo de implementação. Em (PIETERS, WEDEL e SCHAAFSMA, 1990) pode-se obter uma figura com dados experimentais da evolução temporal da concentração de álcool nos corpos de um homem (1) e de uma mulher (2). A Figura 1 mostra o gráfico.\n",
    "\n",
    "\n",
    "<img src=\"GraficoAlcool.png\"/, width=600, height=600 style=\"float: center; margin: 0px 0px 10px 10px\"> \n",
    "Figura 1: Concentração de álcool nos corpos de um homem (1) e de uma mulher (2). Os participantes do experimento ingeriram 3 doses de 9,5g de álcool dentro de um intervalo de 15 minutos e tiveram as concentrações de álcool no sangue medidas em intervalos de 10 em 10 minutos.\n",
    "\n",
    "Para a digitalização dos dados sugerimos a utilização do aplicativo Plot Digitizer (http://plotdigitizer.sourceforge.net/) ou outro equivalente. Usando o aplicativo, você clica nos pontos experimentais e ele salva os dados em um arquivo CSV. A Figura 2 mostra os pontos clicados e o arquivo CSV gerado pelo aplicativo. Foram digitalizados apenas os dados relativos a concentração de álcool no sangue da mulher.\n",
    "\n",
    "<img src=\"GraficoAlcoolDados.png\"/, width=700, height=700 style=\"float: center; margin: 0px 0px 10px 10px\"> \n",
    "Figura 2:Digitalização dos dados experimentais a partir de uma figura usando o aplicativo Plot Digitizer\n",
    "\n",
    "Você pode fazer agora uma função em Python que lê os dados do arquivo CSV, ou digitar esses dados diretamente em seu programa. Foi isso que fizemos e a função que retorna as listas com os valores lidos a partir do gráfico chama-se RetornaDadosAlcool.\n",
    "Para simplificação do modelo, os valores do tempo foram corrigidos de forma que o instante inicial foi definido como 0."
   ]
  },
  {
   "cell_type": "markdown",
   "metadata": {
    "collapsed": true
   },
   "source": [
    "**(1.2) VERIFIQUE OS DADOS** \n",
    "\n",
    "O primeiro passo é você criar um gráfico com os dados experimentais.\n",
    "A continuação se encontra a função RetornaDadosAlcool que retorna duas listas com os dados experimentais que foram digitalizados. \n",
    "Crie uma figura que mostra os dados digitalizados. O resultado deve ser parecido com o da Figura 3.\n",
    "\n",
    "<img src=\"DadosExp.png\"/, width=400, height=400 style=\"float: center; margin: 0px 0px 10px 10px\"> \n",
    "Figura 3: Dados digitalizados para a concentração de Álcool no corpo humano"
   ]
  },
  {
   "cell_type": "code",
   "execution_count": 44,
   "metadata": {
    "collapsed": true
   },
   "outputs": [],
   "source": [
    "\"\"\"\n",
    " RetornaDadosAlcool\n",
    " Retorna os dados brutos para a concentracao de alcool:\n",
    "\n",
    "   C,T=RetornaDadosAlcool()\n",
    "   C lista com a concentração de Alcool no sangue (g/L)\n",
    "   T lista com os instantes de medida (h) \n",
    "\"\"\"\n",
    "def RetornaDadosAlcool():\n",
    "    T = [0,\n",
    "    0.17711,\n",
    "    0.32959,\n",
    "    0.57574,\n",
    "    0.65737,\n",
    "    0.83363,\n",
    "    1.01054,\n",
    "    1.22286,\n",
    "    1.49576,\n",
    "    1.72116,\n",
    "    1.99386,\n",
    "    2.52676,\n",
    "    3.01276,\n",
    "    3.49826,\n",
    "    4.03046,\n",
    "    4.51546,\n",
    "    4.88196,\n",
    "    5.99316,\n",
    "    6.87976]\n",
    "         \n",
    "    C = [0.00139015,\n",
    "    0.0158948,\n",
    "    0.100132,\n",
    "    0.248859,\n",
    "    0.32782,\n",
    "    0.402851,\n",
    "    0.431829,\n",
    "    0.462129,\n",
    "    0.39244,\n",
    "    0.338532,\n",
    "    0.280685,\n",
    "    0.20841,\n",
    "    0.117706,\n",
    "    0.0585803,\n",
    "    0.0349891,\n",
    "    0.0127055,\n",
    "    0.0114537,\n",
    "    0.00770054,\n",
    "    0.00785546]\n",
    "  \n",
    "    return T, C\n"
   ]
  },
  {
   "cell_type": "code",
   "execution_count": 45,
   "metadata": {
    "collapsed": false
   },
   "outputs": [
    {
     "data": {
      "image/png": "[encoded data removed]",
      "text/plain": [
       "<matplotlib.figure.Figure at 0x3bc2bf0198>"
      ]
     },
     "metadata": {},
     "output_type": "display_data"
    }
   ],
   "source": [
    "# Coloque aqui o código que gera o gráfico\n",
    "import matplotlib.pyplot as plt\n",
    "%matplotlib inline\n",
    "\n",
    "T, C = RetornaDadosAlcool()\n",
    "\n",
    "plt.plot(T, C, \"ro\")\n",
    "plt.ylabel(\"Concentração (g/L\")\n",
    "plt.xlabel(\"Tempo (h)\")\n",
    "plt.show()\n"
   ]
  },
  {
   "cell_type": "markdown",
   "metadata": {},
   "source": [
    "** (2) ITERAÇÃO 1**\n",
    "\n",
    "O modelo mais simples possível para a concentração de álcool no corpo humano será dado por apenas um estoque como representado na Figura 4. Note que não se considera a entrada de álcool no sistema, já que se admite que ela ocorre apenas no instante inicial.\n",
    "\n",
    "<img src=\"Modelo_1compartimento.png\"/, width=300, height=300 style=\"float: center; margin: 0px 0px 10px 10px\"> \n",
    "Figura 4: Modelo de 1 estoque para a concentração de álcool no corpo humano\n",
    "\n",
    "\n",
    "A equação diferencial que descreve o comportamento do sistema é:\n",
    "\n",
    "<img src=\"eqs_1compartimento.png\"/, width=100, height=100 style=\"float: center; margin: 0px 0px 10px 10px\"> \n",
    "\n",
    "O sistema tem apenas 1 parâmetro, que é a constante 𝑘.  Co corresponde à concentração inicial. O que precisamos é determinar a função 𝐶(t) a partir do fato de conhecermos o valor de sua derivada. Para isso, vamos usar um Algoritmo de Integração Numérica. Em Python, existe uma implementação muito complexa desse tipo de algoritmo e que funciona extremamente bem para quase qualquer tipo de equação diferencial."
   ]
  },
  {
   "cell_type": "markdown",
   "metadata": {
    "collapsed": true
   },
   "source": [
    "*** (2.1) IMPLEMENTAÇÃO*** \n",
    "\n",
    "A função que usaremos é chamada **odeint** e está disponível no pacote scipy.integrate. Para usar a função, inclua no seu codigo a linha:\n",
    "\n",
    "from scipy.integrate import odeint\n",
    "\n",
    "A função odeint recebe 3 parâmetros:\n",
    "\n",
    "• func: Uma função que determina o valor de dC/dt em função de 𝐶 e 𝑡, de forma que dC/dt = func\n",
    "\n",
    "• Co: O valor inicial da função C(t)\n",
    "\n",
    "• T: Uma lista com os instantes de tempo para os quais o valor da função deve ser determinado.\n",
    "\n",
    "A função retorna uma matriz contendo os valores calculados para a função C(t). \n",
    "\n",
    "Crie uma função chamada **func1** que calcula o valor de dC/dt em função de 𝐶 e 𝑡,  nesta ordem. Utilize essa função para calcular o valor de C(t) para os instantes determinados pela função RetornaDadosAlcool. Utilize 𝑘 = 0,5 e Co= 0,5 como ponto de partida. Varie seu valor e verifique o comportamento do sistema.\n",
    "\n",
    "Você deve obter algo semelhante ao mostrado na Figura 5.\n",
    "\n",
    "\n",
    "<img src=\"Figura5.png\"/, width=400, height=400 style=\"float: center; margin: 0px 0px 10px 10px\"> \n",
    "Figura 5: Resultado da integração do sistema de 1 compartimento"
   ]
  },
  {
   "cell_type": "code",
   "execution_count": 46,
   "metadata": {
    "collapsed": false
   },
   "outputs": [
    {
     "data": {
      "image/png": "[encoded data removed]",
      "text/plain": [
       "<matplotlib.figure.Figure at 0x3bc2bfe6a0>"
      ]
     },
     "metadata": {},
     "output_type": "display_data"
    }
   ],
   "source": [
    "# Coloque aqui o código que gera o gráfico\n",
    "\n",
    "k = 0.5\n",
    "\n",
    "def func1 (C, T):\n",
    "    DcDt = -k*C\n",
    "    return DcDt\n",
    "\n",
    "from scipy.integrate import odeint\n",
    "\n",
    "Co = 0.5\n",
    "\n",
    "solucao = odeint(func1, Co, T)\n",
    "\n",
    "plt.plot(T, C, \"ro\")\n",
    "plt.plot(T, solucao)\n",
    "plt.ylabel(\"Concentração (g/L)\")\n",
    "plt.xlabel(\"Tempo (h)\")\n",
    "plt.show()"
   ]
  },
  {
   "cell_type": "markdown",
   "metadata": {},
   "source": [
    "***(3) ITERAÇÃO 2***\n",
    "\n",
    "Como se pode ver na Figura 5, o modelo de 1 compartimento não apresenta o comportamento real do sistema, já que não leva em consideração o tempo para a absorção do álcool pelo corpo. Assim, escolhemos o modelo indicado na Figura 6 como próximo passo de nosso desenvolvimento. Nele, inclui-se um novo compartimento, que corresponde ao estômago da pessoa.\n",
    "\n",
    "<img src=\"Modelo_2compartimentos.png\"/, width=500, height=500 style=\"float: center; margin: 0px 0px 10px 10px\"> \n",
    "Figura 6: Modelo de 2 estoques para a concentração de álcool no corpo humano\n",
    "\n",
    "\n",
    "As equações diferenciais que descrevem o comportamento do sistema nesta iteração são:\n",
    "<img src=\"eqs_2compartimentos.png\"/, width=200, height=200 style=\"float: center; margin: 0px 0px 10px 10px\"> \n"
   ]
  },
  {
   "cell_type": "markdown",
   "metadata": {},
   "source": [
    "**(3.1) IMPLEMENTAÇÃO**\n",
    "\n",
    "Agora para fazer a integração numérica das duas equações simultaneamente, precisamos definir um vetor, p. ex. 𝑌 = [E, C]. Crie agora uma função **func2** que recebe um vetor 𝑌 e o tempo 𝑡 como parâmetros e retorna um vetor com os valores das derivadas de cada uma das funções, ou seja [dE/dt, dC/dt].\n",
    "Depois, utilize essa função para realizar a integração numérica do sistema de equações. Sugerimos os seguintes valores iniciais: Eo= 0,5, Co= 0, ke= 1 𝑒 𝑘 = 0,5.\n",
    "Você deve obter algo semelhante ao mostrado na Figura 7.\n",
    "\n",
    "\n",
    "<img src=\"Figura7.png\"/, width=400, height=400 style=\"float: center; margin: 0px 0px 10px 10px\"> \n",
    "Figura 7: Resultado da integração do sistema de 2 compartimentos\n",
    "\n"
   ]
  },
  {
   "cell_type": "code",
   "execution_count": 62,
   "metadata": {
    "collapsed": false
   },
   "outputs": [
    {
     "name": "stdout",
     "output_type": "stream",
     "text": [
      "[[ 0.5         0.        ]\n",
      " [ 0.41884382  0.07756513]\n",
      " [ 0.35960928  0.12884899]\n",
      " [ 0.28114432  0.18757044]\n",
      " [ 0.25910623  0.20165729]\n",
      " [ 0.21723466  0.22467353]\n",
      " [ 0.18201118  0.23932029]\n",
      " [ 0.14719351  0.24818741]\n",
      " [ 0.11203912  0.24929079]\n",
      " [ 0.08942928  0.24405817]\n",
      " [ 0.0680844   0.23284177]\n",
      " [ 0.03995876  0.20277937]\n",
      " [ 0.0245779   0.17255531]\n",
      " [ 0.01512499  0.14367522]\n",
      " [ 0.00888308  0.11552359]\n",
      " [ 0.00546929  0.09364906]\n",
      " [ 0.00379107  0.07949334]\n",
      " [ 0.00124788  0.04746187]\n",
      " [ 0.00051419  0.03104014]]\n"
     ]
    },
    {
     "data": {
      "image/png": "[encoded data removed]",
      "text/plain": [
       "<matplotlib.figure.Figure at 0x3bc2d640b8>"
      ]
     },
     "metadata": {},
     "output_type": "display_data"
    }
   ],
   "source": [
    "# Coloque aqui o código que gera o gráfico\n",
    "#p.ex.𝑌 = [E, C]\n",
    "\n",
    "    \n",
    "Eo= 0.5\n",
    "Co= 0 \n",
    "ke= 1 \n",
    "k = 0.5\n",
    "\n",
    "\n",
    "def func2(Y, t):\n",
    "    dEdT = -ke*Y[0]\n",
    "    dCdT = ke*Y[0] - k*Y[1]\n",
    "    return dEdT, dCdT\n",
    "condicoesiniciais = [Eo, Co]\n",
    "solucao2 = odeint(func2, condicoesiniciais ,T )\n",
    "    \n",
    "print(solucao2)\n",
    "\n",
    "plt.plot(T, C, \"ro\")\n",
    "plt.plot(T, solucao2)\n",
    "plt.ylabel(\"Concentração (g/L)\")\n",
    "plt.xlabel(\"Tempo (h)\")\n",
    "plt.show()"
   ]
  },
  {
   "cell_type": "markdown",
   "metadata": {},
   "source": [
    "Agora, você pode tentar achar parâmetros que façam o comportamento do modelo se aproximar dos dados experimentais. Para decidir quais parâmetros e como modificá-los, vamos olhar em detalhe quão bem nosso modelo descreve quantitativamente o comportamento do sistema real. Por exemplo, quão rápido o álcool é eliminado? Ou quão bem prevemos a concentração máxima de álcool no corpo? Que fatores afetam este valor?"
   ]
  },
  {
   "cell_type": "code",
   "execution_count": 61,
   "metadata": {
    "collapsed": false
   },
   "outputs": [
    {
     "data": {
      "image/png": "[encoded data removed]",
      "text/plain": [
       "<matplotlib.figure.Figure at 0x3bc2e3ae10>"
      ]
     },
     "metadata": {},
     "output_type": "display_data"
    }
   ],
   "source": [
    "# Coloque seu código para ajustar os parâmetros aqui\n",
    "\n",
    "Eo= 0.9\n",
    "Co= 0.1\n",
    "ke= 1\n",
    "k = 0.7\n",
    "\n",
    "\n",
    "def func2(Y, t):\n",
    "    dEdT = -ke*Y[0]\n",
    "    dCdT = ke*Y[0] - k*Y[1]\n",
    "    return dEdT, dCdT\n",
    "condicoesiniciais = [Eo, Co]\n",
    "solucao2 = odeint(func2, condicoesiniciais ,T )\n",
    "    \n",
    "plt.plot(T, C, \"ro\")\n",
    "plt.plot(T, solucao2)\n",
    "plt.ylabel(\"Concentração (g/L)\")\n",
    "plt.xlabel(\"Tempo (h)\")\n",
    "plt.show()\n"
   ]
  },
  {
   "cell_type": "markdown",
   "metadata": {},
   "source": [
    "**(4) REFERÊNCIAS** \n",
    "\n",
    "PIETERS, J. E.; WEDEL, M.; SCHAAFSMA, G. Parameter Estimation in a three-compartment model for blood alcohol curves. Alcohol & Alcoholism, 25, 1990. 17-24."
   ]
  }
 ],
 "metadata": {
  "kernelspec": {
   "display_name": "Python 3",
   "language": "python",
   "name": "python3"
  },
  "language_info": {
   "codemirror_mode": {
    "name": "ipython",
    "version": 3
   },
   "file_extension": ".py",
   "mimetype": "text/x-python",
   "name": "python",
   "nbconvert_exporter": "python",
   "pygments_lexer": "ipython3",
   "version": "3.5.1"
  }
 },
 "nbformat": 4,
 "nbformat_minor": 0
}
