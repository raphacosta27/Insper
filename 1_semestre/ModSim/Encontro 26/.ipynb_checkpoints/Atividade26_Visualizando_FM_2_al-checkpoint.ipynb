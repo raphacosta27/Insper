{
 "cells": [
  {
   "cell_type": "markdown",
   "metadata": {},
   "source": [
    "# **ATIVIDADE 26 - Visualizando Figuras de Mérito**"
   ]
  },
  {
   "cell_type": "markdown",
   "metadata": {},
   "source": [
    "\n",
    "**INTRODUÇÃO**\n",
    "\n",
    "Ao longo do primeiro projeto você aprendeu a converter sua abstração (isto é, um conjunto de equações a diferença) em um programa de Python que produziu séries temporais das populações de tubarões, raias, e vieiras.  Na sequência você usou este programa para fazer algum trabalho de modelagem e, finalmente, produziu um gráfico matador para ilustrar suas conclusões.\n",
    "\n",
    "Neste tutorial vamos nos concentrar em ir além da criação de gráficos que resumem uma única série tempo para gráficos que resumem **múltiplas** séries de tempo. Em particular, vamos nos concentrar em produzir gráficos que resumem a forma como figuras de mérito, números que caracterizam o comportamento de uma determinada série de tempo, mudam como resultado da mudança de algum aspecto do modelo (pode ser um parâmetro de modelo ou uma condição inicial). \n",
    "\n",
    "Vamos implementar!\n",
    "\n",
    "\n",
    "\n",
    "\n",
    "**(1) Modelando a concentração de álcool no corpo**\n",
    "\n",
    "A fim de ilustrar algumas técnicas úteis para a visualização de figuras de mérito, vamos voltar ao nosso velho amigo álco... errr .. hum ... o modelo de álcool para ser mais específico!\n",
    "\n",
    "No tutorial anterior, sobre a farmacocinética do álcool (não se preocupe se você não estava lá, todas as informações para fazer esta atividade estão contidas neste documento), desenvolvemos uma versão simplificada do modelo de álcool a partir do artigo do  Peters, Wedel, e Schaafsma (1990) que é definido pelo seguinte modelo (figura 1) e sistema de equações diferenciais:\n",
    "\n",
    "\n",
    "<img src=\"Modelo_2compartimentos.png\"/, width=500, height=500 style=\"float: center; margin: 0px 0px 10px 10px\"> \n",
    "Figura 1: Modelo de 2 estoques para a concentração de álcool no corpo humano\n",
    "\n",
    "\n",
    "As equações diferenciais que descrevem o comportamento do sistema são:\n",
    "<img src=\"eqs_2compartimentos.png\"/, width=200, height=200 style=\"float: center; margin: 0px 0px 10px 10px\"> \n",
    "\n",
    "\n",
    "Onde:\n",
    "\n",
    "E(t) é a ￼￼￼￼￼￼￼￼￼￼￼￼￼￼concentração de álcool no estômago (g/L)\n",
    "\n",
    "C(t) é a ￼￼￼￼￼￼￼￼￼￼￼￼￼￼concentração de álcool na sangue (g/L)\n",
    "\n",
    "Eo e Co são as condicóes inciais de álcool no estômago e sangue, respeitivamente (g/L).\n",
    "\n",
    "k, ke são as constante de reação da eliminação do álcool do estômago e do sangue, respeitivamente (1/s).\n",
    "\n",
    "Uma vez que temos estabelecido alguns valores para os parâmetros, assim como a concentração inicial de álcool no estômago, podemos executar o nosso modelo para produzir uma série de tempo para ambos E(t) e C(t). Por exemplo, dada uma entrada de álcool, o nosso modelo pode gerar as series de tempo que mostramos no gráfico a seguir:"
   ]
  },
  {
   "cell_type": "code",
   "execution_count": 31,
   "metadata": {
    "collapsed": false
   },
   "outputs": [
    {
     "data": {
      "image/png": "[encoded data removed]",
      "text/plain": [
       "<matplotlib.figure.Figure at 0x89ba8c8cf8>"
      ]
     },
     "metadata": {},
     "output_type": "display_data"
    }
   ],
   "source": [
    "import matplotlib.pyplot as plt\n",
    "%matplotlib inline\n",
    "from scipy.integrate import odeint\n",
    "\n",
    "\"\"\"\n",
    " RetornaDadosAlcool\n",
    " Retorna os dados brutos para a concentracao de alcool:\n",
    "\n",
    "   C,T=RetornaDadosAlcool()\n",
    "   C lista com a concentração de Alcool no sangue (g/L)\n",
    "   T lista com os instantes de medida (h) \n",
    "\"\"\"\n",
    "def RetornaDadosAlcool():\n",
    "    T = [0,\n",
    "    0.17711,\n",
    "    0.32959,\n",
    "    0.57574,\n",
    "    0.65737,\n",
    "    0.83363,\n",
    "    1.01054,\n",
    "    1.22286,\n",
    "    1.49576,\n",
    "    1.72116,\n",
    "    1.99386,\n",
    "    2.52676,\n",
    "    3.01276,\n",
    "    3.49826,\n",
    "    4.03046,\n",
    "    4.51546,\n",
    "    4.88196,\n",
    "    5.99316,\n",
    "    6.87976]\n",
    "         \n",
    "    C = [0.00139015,\n",
    "    0.0158948,\n",
    "    0.100132,\n",
    "    0.248859,\n",
    "    0.32782,\n",
    "    0.402851,\n",
    "    0.431829,\n",
    "    0.462129,\n",
    "    0.39244,\n",
    "    0.338532,\n",
    "    0.280685,\n",
    "    0.20841,\n",
    "    0.117706,\n",
    "    0.0585803,\n",
    "    0.0349891,\n",
    "    0.0127055,\n",
    "    0.0114537,\n",
    "    0.00770054,\n",
    "    0.00785546]\n",
    "  \n",
    "    return T, C\n",
    "\n",
    "# Dados experimentais\n",
    "T, Cexp = RetornaDadosAlcool() \n",
    "\n",
    "# Modelo, Y = [ E , C]\n",
    "k = 1.2 \n",
    "ke = 2 \n",
    "\n",
    "def func2(Y,t):\n",
    "    dEdt = -ke*Y[0]\n",
    "    dCdt = ke*Y[0] - k*Y[1]\n",
    "    return [dEdt, dCdt]\n",
    "\n",
    "# Condição Inicial\n",
    "C0 = 0.0\n",
    "E0 = 1 \n",
    "Y0 = [E0, C0]\n",
    "\n",
    "# Realiza  a integração numérica\n",
    "Y = odeint(func2,Y0,T)\n",
    "\n",
    "#Inclui o atraso de 0,4 hora\n",
    "Texp = [x-0.4 for x in T]  \n",
    "\n",
    "# Mostra o resultado da simulacao junto com os dados experimentais\n",
    "plt.plot(Texp, Cexp,'bo')\n",
    "plt.plot(T,Y[:,0],'g')\n",
    "plt.plot(T,Y[:,1],'r')\n",
    "plt.axis([0, max(T), 0, 0.55])\n",
    "plt.ylabel('Concentração (g/L)')\n",
    "plt.xlabel('Tempo (h)')\n",
    "plt.title(r'Modelo e Dados Experimentais')\n",
    "plt.show()"
   ]
  },
  {
   "cell_type": "markdown",
   "metadata": {},
   "source": [
    "**(2) Brainstorming Potenciais Gráficos de Figuras de Mérito**\n",
    "\n",
    "Pense sobre o modelo farmacocinético do álcool; Que figuras de mérito interessantes poderíamos extrair da série temporal resultante? Que relações entre as características do modelo (entradas ou parâmetros) e figuras de mérito pode valer a pena investigar?\n",
    "\n",
    "Com as pessoas sentadas na sua mesa, **tome 10 minutos** para um \"brainstorm\" sobre algumas figuras de mérito que podem ser interessantes visualizar. Para cada ideia, esboçar uma previsão de como seria o gráfico resultante. Você pode achar que é útil rodar o código Python fornecido com diferentes entradas e valores de parâmetros a fim de ter uma ideia de relações interessantes que o modelo poderia capturar.\n"
   ]
  },
  {
   "cell_type": "markdown",
   "metadata": {},
   "source": [
    "**(3)** Implementar uma Função em Python que calcule a concentração de álcool no sangue em funcao do tempo, para diferentes quantidades inciais de álcool ingeridas."
   ]
  },
  {
   "cell_type": "code",
   "execution_count": 32,
   "metadata": {
    "collapsed": false
   },
   "outputs": [],
   "source": [
    "#Ezeros = np.arange(1,5.5,0.5)\n",
    "#C = []\n",
    "#for CadaE0 in Ezeros:\n",
    "#    Y0 = [CadaE0, C0] \n",
    "#    Y = odeint(func2,Y0,T)\n",
    "#    C.append(Y)\n",
    "    \n",
    "#return C\n",
    "\n",
    "# Nome função: calculaConcentracao\n",
    "# Entradas\n",
    "#   E0: Concentracao Inicial de Alcool no estomago\n",
    "#   T: Instantes de tempo em que devem ser calculadas as concentracoes\n",
    "# Saida\n",
    "#   C: Lista com os valores de concentracao de alcool no sangue para os instantes de tempo.\n",
    "\n",
    "def calculaConcentracao(E0,T):\n",
    "    Y0 = [E0, C0]\n",
    "    C = odeint(func2,Y0,T)\n",
    "    \n",
    "    return C[:,1]\n"
   ]
  },
  {
   "cell_type": "markdown",
   "metadata": {},
   "source": [
    "**(4)** Implementar uma Função em Python que determine o maior valor de uma lista (Cmax)."
   ]
  },
  {
   "cell_type": "code",
   "execution_count": 33,
   "metadata": {
    "collapsed": true
   },
   "outputs": [],
   "source": [
    "# Nome: maximoDaLista\n",
    "# Entradas\n",
    "#   C: Lista com valores\n",
    "# Saida\n",
    "#   CMax: Maior valor na lista de entrada\n",
    "\n",
    "def maximoDaLista(C):\n",
    "    # Coloque seu codigo aqui\n",
    "    return max(C)"
   ]
  },
  {
   "cell_type": "markdown",
   "metadata": {},
   "source": [
    "**(5)** Implementar uma Função em Python que calcula as maximas concentracoes de álcool no sangue para todos os\n",
    "valores de E0 contidos em uma lista"
   ]
  },
  {
   "cell_type": "code",
   "execution_count": 35,
   "metadata": {
    "collapsed": false
   },
   "outputs": [
    {
     "data": {
      "image/png": "[encoded data removed]",
      "text/plain": [
       "<matplotlib.figure.Figure at 0x89ba3fe780>"
      ]
     },
     "metadata": {},
     "output_type": "display_data"
    }
   ],
   "source": [
    "from numpy import linspace\n",
    "\n",
    "# Nome: calculaConcentracoesMaximas\n",
    "# Entradas\n",
    "#   E0Lista: Lista com os valores da Concentracao Inicial de Alcool no estomago\n",
    "#   Texp: Instantes de tempo em que devem ser calculadas as concentracoes\n",
    "# Saida\n",
    "#   CMaxLista: Lista com os valores máximos de concentracao\n",
    "\n",
    "def calculaConcentracoesMaximas(E0Lista,T):\n",
    "    CMaxLista = []\n",
    "    for CadaE0 in E0Lista:\n",
    "        Y0 = [CadaE0, C0] \n",
    "        CMaxLista.append(maximoDaLista(calculaConcentracao(CadaE0,T)))\n",
    "    return CMaxLista\n",
    "\n",
    "# Definicao de uma lista com diversos valores de concentraçao inicial \n",
    "E0Lista = linspace(0,2,21)      \n",
    "len(E0Lista)\n",
    " \n",
    "# plote um gráfico dos valores máximos de concentracao em funcao da concentracao inicial de alcool no estomago  \n",
    "plt.plot(E0Lista, calculaConcentracoesMaximas(E0Lista, T),'bo')\n",
    "\n",
    "plt.show()"
   ]
  },
  {
   "cell_type": "markdown",
   "metadata": {
    "collapsed": true
   },
   "source": [
    "**(6)** Implementar uma Função em Python que determina o valor da concentracao de alcool no sangue depois de x horas."
   ]
  },
  {
   "cell_type": "code",
   "execution_count": null,
   "metadata": {
    "collapsed": true
   },
   "outputs": [],
   "source": []
  }
 ],
 "metadata": {
  "kernelspec": {
   "display_name": "Python 3",
   "language": "python",
   "name": "python3"
  },
  "language_info": {
   "codemirror_mode": {
    "name": "ipython",
    "version": 3
   },
   "file_extension": ".py",
   "mimetype": "text/x-python",
   "name": "python",
   "nbconvert_exporter": "python",
   "pygments_lexer": "ipython3",
   "version": "3.5.1"
  }
 },
 "nbformat": 4,
 "nbformat_minor": 0
}
