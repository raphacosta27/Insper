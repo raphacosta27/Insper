{
 "cells": [
  {
   "cell_type": "markdown",
   "metadata": {},
   "source": [
    "## Exercício 4 de Modelagem e Simulação"
   ]
  },
  {
   "cell_type": "markdown",
   "metadata": {},
   "source": [
    "**Implementando a sequência de Fibonacci**\n",
    "\n",
    "Faça um código em Python, de preferência utilizando o iPython Notebook, para gerar os primeiros N termos da sequência de Fibonacci. Para isso, você deverá implementar uma função que recebe a quantidade de termos a serem gerados (N) e retorna uma lista com os N primeiros termos da sequência de Fibonacci.\n",
    "Assim que a função estiver pronta e funcional, implemente um código adicional com a chamada desta função para uma sequência de 20 termos (N=20) e plote um gráfico com essa sequência em função de N.\n"
   ]
  },
  {
   "cell_type": "code",
   "execution_count": 7,
   "metadata": {
    "collapsed": false
   },
   "outputs": [],
   "source": [
    "#Escreva aqui a função que gera a sequência de Fibonacci\n",
    "# por exemplo, ela pode começar com \"def Fibonacci(N):\"\n",
    "def fibonacci(n):\n",
    "    if n == 0:\n",
    "        return[0]\n",
    "    elif n == 1:\n",
    "        return[1]\n",
    "    else:\n",
    "        lista_de_fibonacci = [1,1]\n",
    "        for i in range(2,n):\n",
    "            lista_de_fibonacci.append(lista_de_fibonacci[i-1] + lista_de_fibonacci[i -2])\n",
    "        return lista_de_fibonacci\n",
    "   "
   ]
  },
  {
   "cell_type": "code",
   "execution_count": 4,
   "metadata": {
    "collapsed": false
   },
   "outputs": [
    {
     "name": "stdout",
     "output_type": "stream",
     "text": [
      "[1, 1, 2, 3, 5, 8, 13, 21, 34, 55, 89, 144, 233, 377, 610, 987, 1597, 2584, 4181, 6765]\n"
     ]
    },
    {
     "data": {
      "image/png": "[encoded data removed]",
      "text/plain": [
       "<matplotlib.figure.Figure at 0x5fac45b198>"
      ]
     },
     "metadata": {},
     "output_type": "display_data"
    }
   ],
   "source": [
    "#imprima aqui a sequência dos 20 primeiros números de Fibonacci e faça um gráfico dessa série\n",
    "\n",
    "import matplotlib.pyplot as plt\n",
    "%matplotlib inline\n",
    "\n",
    "print (fibonacci(20))\n",
    "\n",
    "lista_de_20 = fibonacci(20)\n",
    "\n",
    "\n",
    "plt.plot(lista_de_20)\n",
    "plt.axis([0, 20, min(lista_de_20), max(lista_de_20)])\n",
    "plt.ylabel('número de fibonacci')\n",
    "plt.xlabel('número do termos')\n",
    "plt.title(r'Sequência de Fibonacci')\n",
    "plt.show()\n",
    "\n",
    "\n",
    "\n"
   ]
  },
  {
   "cell_type": "markdown",
   "metadata": {},
   "source": [
    "Agora voltemos ao seu código. Adicione mais uma implementação que calcule, para uma sequência de 50 termos de Fibonacci, a razão entre dois termos consecutivos da sequência, ou seja, $r(t)=\\frac{r(t+1)}{r(t)}$ . No seu código, as razões r(t) devem ser armazenadas em uma lista. Note que, se sua lista de Fibonacci tem 50 termos, a lista de razões deverá conter 49 termos. Se não entendeu porque, faça um exercício no papel para 10 termos e ficará claro que teremos apenas 9 razões (teremos sempre N-1 razões para uma lista de N termos). Agora plote o gráfico da série de razões r(t)."
   ]
  },
  {
   "cell_type": "code",
   "execution_count": 5,
   "metadata": {
    "collapsed": false
   },
   "outputs": [
    {
     "data": {
      "image/png": "[encoded data removed]",
      "text/plain": [
       "<matplotlib.figure.Figure at 0x5fac49d358>"
      ]
     },
     "metadata": {},
     "output_type": "display_data"
    },
    {
     "name": "stdout",
     "output_type": "stream",
     "text": [
      "[1, 1, 2, 3, 5, 8, 13, 21, 34, 55, 89, 144, 233, 377, 610, 987, 1597, 2584, 4181, 6765]\n"
     ]
    }
   ],
   "source": [
    "#Implemente aqui a sequência de razóes e plote seu gráfico para os N termos de fibonacci. Use a funcão que criou acima!\n",
    "\n",
    "import matplotlib.pyplot as plt\n",
    "%matplotlib inline\n",
    "\n",
    "def fibonacci(n):\n",
    "    if n == 0:\n",
    "        return[0]\n",
    "    elif n == 1:\n",
    "        return[1]\n",
    "    else:\n",
    "        lista_de_fibonacci = [1,1]\n",
    "        razao = []\n",
    "        for i in range(2,n):\n",
    "            lista_de_fibonacci.append(lista_de_fibonacci[i-1] + lista_de_fibonacci[i -2])\n",
    "            razao.append(lista_de_fibonacci[i-1] / lista_de_fibonacci[i - 2])\n",
    "    plt.plot(razao)\n",
    "    plt.axis([0, len(razao) , min(razao), max(razao)])\n",
    "    plt.show()\n",
    "\n",
    "    return lista_de_fibonacci\n",
    "\n",
    "print(fibonacci(20))\n",
    "\n",
    "\n"
   ]
  },
  {
   "cell_type": "markdown",
   "metadata": {},
   "source": [
    "Resolvendo a equação $r^2-r-1=0$\n",
    "\n",
    "Voltando ao Python, resolva essa equação de segundo grau e calcule os possíveis valores de r. Por se tratar de uma equação de segundo grau, esperamos encontrar até duas raízes.\n"
   ]
  },
  {
   "cell_type": "code",
   "execution_count": 6,
   "metadata": {
    "collapsed": false
   },
   "outputs": [
    {
     "name": "stdout",
     "output_type": "stream",
     "text": [
      "[ 1.61803399 -0.61803399]\n"
     ]
    }
   ],
   "source": [
    "#resolva a equação nesta célula usando o numpy.roots\n",
    "import numpy\n",
    "p = (1, -1, -1)\n",
    "print( numpy.roots(p))\n"
   ]
  },
  {
   "cell_type": "code",
   "execution_count": null,
   "metadata": {
    "collapsed": true
   },
   "outputs": [],
   "source": []
  }
 ],
 "metadata": {
  "kernelspec": {
   "display_name": "Python 3",
   "language": "python",
   "name": "python3"
  },
  "language_info": {
   "codemirror_mode": {
    "name": "ipython",
    "version": 3
   },
   "file_extension": ".py",
   "mimetype": "text/x-python",
   "name": "python",
   "nbconvert_exporter": "python",
   "pygments_lexer": "ipython3",
   "version": "3.5.1"
  }
 },
 "nbformat": 4,
 "nbformat_minor": 0
}
