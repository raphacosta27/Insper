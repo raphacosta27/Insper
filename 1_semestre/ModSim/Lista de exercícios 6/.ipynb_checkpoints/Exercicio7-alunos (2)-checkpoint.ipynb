{
 "cells": [
  {
   "cell_type": "markdown",
   "metadata": {},
   "source": [
    "   ## Insper - Modelaem e Simulação do Mundo Físico ##\n",
    "   \n",
    "   **Exercício 7 - Derivadas, equações diferenciais e o Método de Euler**\n",
    "   \n",
    "   Neste exercício, vamos entender melhor os conceitos de derivada e de equações diferenciais. Primeiramente, você já deve estar se acostumando com o conceito de derivada, que chamamos de \"taxa de variação estantânea\" de uma determinada função. Dados os exercícios feitos até aqui, você já deve ter entendido que a taxa de variação temporal de uma função no intervalo de tempo $t_1$ e $t_2$ é dada por:\n",
    "   \n",
    "   $$\\frac{\\Delta f}{\\Delta x}=\\frac{f(t_2)-f(t_1)}{t_2-t_1}$$\n",
    "   \n",
    "   Pois bem, como já falamos algumas vezes, você ainda vai aprender em Matemática da Variação que quando $t_2$ é muito próximo de $t_1$, a taxa de variação será chamada de derivada. Formalmente:\n",
    "   \n",
    "   $$\\frac{df}{dx}=\\lim_{t_2 \\to t_1}(\\frac{f(t_2)-f(t_1)}{t_2-t_1})$$\n",
    "   \n",
    "   Você ainda vai aprender como resolver a equação acima algebricamente para vários tipos de funcões, mas, por enquanto, vamos trabalhar no conceito da taxa de variação e  construir uma série temporal de taxas. Ou seja, se começarmos a calcular as taxas de variação de uma determinada função quanto $t=0$ e formos incrementando esse $t$ a passos bem pequenos, poderemos calcular a taxa de variação de uma funcão a cada intervalo $\\Delta t$, construindo uma lista de taxas de variação.\n",
    "   \n"
   ]
  },
  {
   "cell_type": "markdown",
   "metadata": {},
   "source": [
    "**Item 1 - Implementando numericamente a função derivada**\n",
    "\n",
    "Vamos começar implementando uma função bem simples e muito conhecida por você: $f(t)=t^2$\n",
    "\n",
    "Na célula abaixo, escreva como seria a implementação dessa complicada função.\n"
   ]
  },
  {
   "cell_type": "code",
   "execution_count": 96,
   "metadata": {
    "collapsed": false
   },
   "outputs": [],
   "source": [
    "#implementação da função\n",
    "def f(t):\n",
    "    return  t*t"
   ]
  },
  {
   "cell_type": "markdown",
   "metadata": {},
   "source": [
    "Para se certificar que sua função funciona, plote um gráfico de $f(t)$ para $t$ variando de 0 a 10 com intervalos de tempo de 0,5 segundos. Quantas iterações você vai precisar para montar uma lista de tempos e de valores da função $f(t)$?"
   ]
  },
  {
   "cell_type": "code",
   "execution_count": 97,
   "metadata": {
    "collapsed": false
   },
   "outputs": [
    {
     "name": "stdout",
     "output_type": "stream",
     "text": [
      "Intervalos de tempo: [  0.    0.5   1.    1.5   2.    2.5   3.    3.5   4.    4.5   5.    5.5\n",
      "   6.    6.5   7.    7.5   8.    8.5   9.    9.5  10. ]\n"
     ]
    },
    {
     "data": {
      "image/png": "[encoded data removed]",
      "text/plain": [
       "<matplotlib.figure.Figure at 0x28f7141400>"
      ]
     },
     "metadata": {},
     "output_type": "display_data"
    },
    {
     "name": "stdout",
     "output_type": "stream",
     "text": [
      "lista de valores [0.0, 0.25, 1.0, 2.25, 4.0, 6.25, 9.0, 12.25, 16.0, 20.25, 25.0, 30.25, 36.0, 42.25, 49.0, 56.25, 64.0, 72.25, 81.0, 90.25, 100.0]\n"
     ]
    }
   ],
   "source": [
    "from numpy import arange\n",
    "\n",
    "import matplotlib.pyplot as plt\n",
    "%matplotlib inline\n",
    "\n",
    "#implementação do gráfico da função f(t)\n",
    "\n",
    "\n",
    "intervalos_de_tempo = arange(0,10.5,0.5)\n",
    "lista_de_valores = []\n",
    "\n",
    "print(\"Intervalos de tempo:\",intervalos_de_tempo)\n",
    "for valor in intervalos_de_tempo:\n",
    "    valores = f(valor)\n",
    "    lista_de_valores.append(valores)\n",
    "    \n",
    "\n",
    "numero_de_valores = list(range(21))\n",
    "plt.plot(numero_de_valores, lista_de_valores)\n",
    "plt.show()\n",
    "\n",
    "print(\"lista de valores\",lista_de_valores)\n",
    "    "
   ]
  },
  {
   "cell_type": "markdown",
   "metadata": {},
   "source": [
    "Agora que sua função já está funcionando, vamos implementar o cálculo das taxas de variação de $f(t)$ para um determinado intervalo de tempo. Para isso, vamos criar uma função chamada TaxadeVariacao(t, delta_t), que deve retornar a taxa de variação no instante t considerando um determinado $\\Delta t$. Use a função f(t) que você já implementou!"
   ]
  },
  {
   "cell_type": "code",
   "execution_count": 98,
   "metadata": {
    "collapsed": false
   },
   "outputs": [],
   "source": [
    "import math\n",
    "def TaxadeVariacao(t, delta_t):\n",
    "        return (f(t + delta_t) - f(t))/delta_t\n"
   ]
  },
  {
   "cell_type": "markdown",
   "metadata": {},
   "source": [
    "Agora vamos construir o gráfico da série temporal de f(t) e da taxa de variação $\\frac{\\Delta f}{\\Delta t}(t)$. Para isso, use inicialmente o mesmo intervalo de tempo de 0,5s com t entre 0 e 10."
   ]
  },
  {
   "cell_type": "code",
   "execution_count": 99,
   "metadata": {
    "collapsed": false,
    "scrolled": false
   },
   "outputs": [
    {
     "data": {
      "image/png": "[encoded data removed]",
      "text/plain": [
       "<matplotlib.figure.Figure at 0x2880937518>"
      ]
     },
     "metadata": {},
     "output_type": "display_data"
    },
    {
     "name": "stdout",
     "output_type": "stream",
     "text": [
      "Lista de Deltas: [  0.5   1.5   2.5   3.5   4.5   5.5   6.5   7.5   8.5   9.5  10.5  11.5\n",
      "  12.5  13.5  14.5  15.5  16.5  17.5  18.5  19.5  20.5]\n"
     ]
    }
   ],
   "source": [
    "#implemente aqui seu código para construir as séries de f(t) e da taxa de variação no tempo, bem como seus gráficos\n",
    "\n",
    "numero_de_deltas = list(range(21))\n",
    "plt.plot(numero_de_deltas,TaxadeVariacao(intervalos_de_tempo, 0.5))\n",
    "plt.grid(True)\n",
    "plt.show()\n",
    "\n",
    "print(\"Lista de Deltas:\", TaxadeVariacao(intervalos_de_tempo, 0.5))"
   ]
  },
  {
   "cell_type": "markdown",
   "metadata": {},
   "source": [
    "O gráfico de $\\frac{\\Delta f}{\\Delta t}(t)$ é de que grau? Consegue determinar qual a função com a qual se parece esse gráfico? Consegue calcular seu coeficiente angular? Uma sugestão é plotar o gráfico acima com a grade ativa. Para isso, use plt.grid(True).\n",
    "\n",
    "Agora crie uma outra função $f_2(t)$. Ao invés de $f_2(t)=t^2$, faça agora $f_2(t)=e^x$ (e é o algarismo neperiano - função math.exp()). Após rodar o mesmo código acima com $\\Delta t$ = 0,5s, altere o $\\Delta t$ para 0,01s e realize 1000 iterações, resultando em uma lista de tempos que começa em 0 e vai até 10, com passos de 0,01. Qual a diferença no gráfico ao fazer $\\Delta t$ bem menor? \n",
    "\n",
    "Qual a relação entre $f_2(t)$ e $\\frac{\\Delta f_2}{\\Delta t}(t)$ neste caso?\n",
    "\n",
    "Por fim, mantendo o passo em 0,01, crie mais uma função $f_3(t)=cos(t)$. Qual o formato de $\\frac{\\Delta f_3}{\\Delta t}(t)$ neste caso?\n",
    "\n",
    "Pesquise na internet qual o resultado algébrico das derivadas das funçõs $f(x)=x^2$, $f(x)=e^x$ e $f(x)=cos(x)$. Faz sentido em face ao que você implementou? Quando aprender isso em Matemática da Variação, não se esqueça que já implementou essas derivadas em Mod Sim!"
   ]
  },
  {
   "cell_type": "code",
   "execution_count": 100,
   "metadata": {
    "collapsed": false
   },
   "outputs": [],
   "source": [
    "#1: Primeiro Grau. \n",
    "#2: f(x) = ax + 0.5\n",
    "#3: a = 2.0\n",
    "\n",
    "import math\n",
    "\n",
    "def f2(t):\n",
    "    return math.exp(t)\n",
    "\n",
    "def TaxadeVariacao2(t1, delta_t1):\n",
    "        return (f2(t1 + delta_t1) - f2(t1))/delta_t1\n",
    "\n",
    "\n",
    "def f3(t):\n",
    "    return math.cos(t)\n",
    "\n",
    "\n",
    "def TaxadeVariacao3(t2, delta_t2):\n",
    "        return (f3(t2 + delta_t2) - f3(t2))/delta_t2\n",
    "\n"
   ]
  },
  {
   "cell_type": "code",
   "execution_count": 101,
   "metadata": {
    "collapsed": false
   },
   "outputs": [
    {
     "data": {
      "image/png": "[encoded data removed]",
      "text/plain": [
       "<matplotlib.figure.Figure at 0x28804517f0>"
      ]
     },
     "metadata": {},
     "output_type": "display_data"
    },
    {
     "data": {
      "image/png": "[encoded data removed]",
      "text/plain": [
       "<matplotlib.figure.Figure at 0x28f70ca9e8>"
      ]
     },
     "metadata": {},
     "output_type": "display_data"
    }
   ],
   "source": [
    "intervalos_de_tempo2 = arange(0,10,0.01)\n",
    "lista_de_valores2 = []\n",
    "for i in intervalos_de_tempo2:\n",
    "    valores2 = f2(i)\n",
    "    lista_de_valores2.append(valores2)\n",
    "plt.plot(lista_de_valores2)\n",
    "plt.show()\n",
    "\n",
    "\n",
    "\n",
    "lista_de_deltas2 = []\n",
    "for r in intervalos_de_tempo2:\n",
    "    taxas2 = TaxadeVariacao2(r, 0.01)\n",
    "    lista_de_deltas2.append(taxas2)\n",
    "plt.plot(lista_de_deltas2)\n",
    "plt.show()"
   ]
  },
  {
   "cell_type": "code",
   "execution_count": 102,
   "metadata": {
    "collapsed": false,
    "scrolled": true
   },
   "outputs": [
    {
     "data": {
      "image/png": "[encoded data removed]",
      "text/plain": [
       "<matplotlib.figure.Figure at 0x2880192c50>"
      ]
     },
     "metadata": {},
     "output_type": "display_data"
    }
   ],
   "source": [
    "# Função 3\n",
    "intervalos_de_tempo3 = arange(0,10,0.01)\n",
    "lista_de_valores3 = []\n",
    "for i in intervalos_de_tempo3:\n",
    "    valores3 = f3(i)\n",
    "    lista_de_valores3.append(valores3)\n",
    "\n",
    "\n",
    "#Deltas função 3\n",
    "lista_de_deltas3 = []\n",
    "for r in intervalos_de_tempo3:\n",
    "    taxas3 = TaxadeVariacao3(r, 0.01)\n",
    "    lista_de_deltas3.append(taxas3)\n",
    "\n",
    "#Grafico de comparação\n",
    "plt.plot(lista_de_deltas3)\n",
    "plt.plot(lista_de_valores3)\n",
    "plt.show()"
   ]
  },
  {
   "cell_type": "markdown",
   "metadata": {},
   "source": [
    "**Item 2 - Resolvendo uma equação diferencial pelo método de Euler**\n",
    "\n",
    "O método de Euler é o mais simples para se calcular a solução de uma equação diferencial. Antes de mais nada, vamos fazer um teste para saber se você é tão esperto quanto Euler. Vamos dizer que você chegue no instante t para medir a população de onças no parque do Iguaçu, $O(t)$, e que você conhece a taxa de variação anual de onças $\\Delta O$. Você saberia prever quantas onças haveria no parque após passado um certo intervalo de tempo $\\Delta t$, digamos $\\Delta t = 0,5$ anos?\n",
    "\n",
    "Se você respondeu que a população de onças no instante $t+\\Delta t$ será $O(t+\\Delta t)=O(t)+\\Delta O\\cdot\\Delta t$, parabéns! Você é tão esperto quanto Euler e nem sabia, pois já implementou o método de Euler muitas vezes, sem saber, por meio das famosas equações a diferenças.\n",
    "\n",
    "Vamos agora imaginar que queiramos saber qual a solução da seguinte equação diferencial:\n",
    "\n",
    "$$\\frac{df}{dt}(t)=a\\cdot f(t)\\cdot[1+2\\cdot sin(wt)]$$\n",
    "\n",
    "Ela pode representar, por exemplo, a evolução diária da população de bactérias, que depende da quantidade de bactéricas existentes $a\\cdot f(t)$ e de uma função senoidal que representa a sazonalidade de alimentos.\n",
    "\n",
    "Pois bem, vamos encontrar qual a função $f(t)$ que atende à equação diferencial acima, e para isso vamos usar o método de Euler.\n",
    "\n",
    "O primeiro passo é lembrar que o lado direito da equação diferencial acima é justamente a taxa de variação em um determinado t:\n",
    "\n",
    "$$\\frac{\\Delta f}{\\Delta t}=f(t+\\Delta t)-f(t)=\\textrm{Taxa de variação em t}$$\n",
    "\n",
    "Assim, nossa taxa de variação em cada instante t será:\n",
    "\n",
    "$$\\textrm{Taxa de Variação}=a.f(t)[1+2\\cdot sin(wt)]$$\n",
    "\n",
    "Implemente abaixo a função Taxa_de_Variacao(a, f, w, t)\n"
   ]
  },
  {
   "cell_type": "code",
   "execution_count": 103,
   "metadata": {
    "collapsed": false
   },
   "outputs": [],
   "source": [
    "def Taxa_de_Variacao(a, f, w, t):\n",
    "    #implemente sua função aqui\n",
    "    return a*f*(1 + 2*math.sin(w*t))"
   ]
  },
  {
   "cell_type": "markdown",
   "metadata": {},
   "source": [
    "Agora que sua função Taxa_de_Variacao está implementada, vamos calcular a função f(t) que satisfaz a equação diferencial que estamos tentando resolver. Essa função f(t) estará numa lista com os valores da função para cada instante de tempo considerado. Vamos considerar a unidade de tempo igual a 1 dia. Abaixo, implemente o código do método de Euler usando os seguintes parâmetros:\n",
    "\n",
    "$f(0) = 5$ (Esta é a população inicial)\n",
    "\n",
    "$a = 0,007$\n",
    "\n",
    "$w=0,05$\n",
    "\n",
    "$\\Delta t=0,001$ dias (nosso $\\Delta t$ é um milésimo de um 1 dia)\n",
    "\n",
    "Para sua implementação, use 400 dias.\n",
    "Qual a população de bactérias após 1 ano (365 dias)?\n"
   ]
  },
  {
   "cell_type": "code",
   "execution_count": 104,
   "metadata": {
    "collapsed": false
   },
   "outputs": [
    {
     "name": "stdout",
     "output_type": "stream",
     "text": [
      "400000\n"
     ]
    },
    {
     "data": {
      "image/png": "[encoded data removed]",
      "text/plain": [
       "<matplotlib.figure.Figure at 0x288011c4a8>"
      ]
     },
     "metadata": {},
     "output_type": "display_data"
    },
    {
     "name": "stdout",
     "output_type": "stream",
     "text": [
      "A populção de bacterias em 365 dias é de: 67.65541271923331\n"
     ]
    }
   ],
   "source": [
    "#implememte seu código aqui para construir a série temporal de f(t)\n",
    "deltat = 0.001\n",
    "iteracoes = int(400/deltat)\n",
    "\n",
    "#intervalos_de_tempof = arange(0, 400.001, 0.001)\n",
    "listaf = [5]\n",
    "listat = [0]\n",
    "#print(len(intervalos_de_tempof))\n",
    "\n",
    "\n",
    "f = 5\n",
    "a = 0.007\n",
    "w = 0.05\n",
    "t = 0.001\n",
    "\n",
    "for i in range(1, iteracoes):\n",
    "    listat.append(i*deltat)\n",
    "    f = f + Taxa_de_Variacao(a, f, w, listat[i]) * deltat\n",
    "    listaf.append(f)\n",
    "\n",
    "print(len(listaf))\n",
    "plt.plot(listat, listaf)\n",
    "\n",
    "plt.show()\n",
    "\n",
    "print(\"A populção de bacterias em 365 dias é de:\", listaf[364000])"
   ]
  },
  {
   "cell_type": "code",
   "execution_count": null,
   "metadata": {
    "collapsed": true
   },
   "outputs": [],
   "source": []
  }
 ],
 "metadata": {
  "kernelspec": {
   "display_name": "Python 3",
   "language": "python",
   "name": "python3"
  },
  "language_info": {
   "codemirror_mode": {
    "name": "ipython",
    "version": 3
   },
   "file_extension": ".py",
   "mimetype": "text/x-python",
   "name": "python",
   "nbconvert_exporter": "python",
   "pygments_lexer": "ipython3",
   "version": "3.5.1"
  }
 },
 "nbformat": 4,
 "nbformat_minor": 0
}
